{
 "cells": [
  {
   "cell_type": "code",
   "execution_count": 10,
   "id": "handled-karma",
   "metadata": {},
   "outputs": [
    {
     "name": "stdout",
     "output_type": "stream",
     "text": [
      "The autoreload extension is already loaded. To reload it, use:\n",
      "  %reload_ext autoreload\n"
     ]
    }
   ],
   "source": [
    "import gym\n",
    "from envs.mujoco.ant import AntEnv\n",
    "%load_ext autoreload\n",
    "%autoreload 2"
   ]
  },
  {
   "cell_type": "code",
   "execution_count": 11,
   "id": "respiratory-anthony",
   "metadata": {},
   "outputs": [
    {
     "name": "stdout",
     "output_type": "stream",
     "text": [
      "\u001b[33mWARN: gym.spaces.Box autodetected dtype as <class 'numpy.float32'>. Please provide explicit dtype.\u001b[0m\n",
      "\u001b[33mWARN: gym.spaces.Box autodetected dtype as <class 'numpy.float32'>. Please provide explicit dtype.\u001b[0m\n"
     ]
    }
   ],
   "source": [
    "env = AntEnv()"
   ]
  },
  {
   "cell_type": "code",
   "execution_count": 3,
   "id": "capable-crossing",
   "metadata": {},
   "outputs": [
    {
     "data": {
      "text/plain": [
       "array([ 1.,  1.,  1.,  1.,  1.,  1.,  1.,  1.], dtype=float32)"
      ]
     },
     "execution_count": 3,
     "metadata": {},
     "output_type": "execute_result"
    }
   ],
   "source": [
    "env.action_space.high"
   ]
  },
  {
   "cell_type": "code",
   "execution_count": 6,
   "id": "monthly-retro",
   "metadata": {},
   "outputs": [
    {
     "data": {
      "text/plain": [
       "Box(29,)"
      ]
     },
     "execution_count": 6,
     "metadata": {},
     "output_type": "execute_result"
    }
   ],
   "source": [
    "env.observation_space\n"
   ]
  },
  {
   "cell_type": "code",
   "execution_count": 12,
   "id": "thousand-center",
   "metadata": {},
   "outputs": [
    {
     "name": "stdout",
     "output_type": "stream",
     "text": [
      "[  8.48203691e-01   9.94485765e-01   6.19983773e-02   6.19422823e-04\n",
      "   8.45806211e-02  -4.96864612e-02  -1.54326488e-02  -7.64387262e-03\n",
      "  -4.59173590e-02   6.21070987e-03  -7.99573083e-02   4.98486505e-02\n",
      "   7.58221436e-02   1.25010549e-01   2.49554370e-02  -1.54963749e-01\n",
      "  -1.74935022e-01  -2.11352301e-02  -9.34715656e-02  -5.37357366e-02\n",
      "   3.76539885e-02   2.66624945e-02  -1.51310353e-01  -4.43102059e-02\n",
      "   2.05062951e-01  -5.51173314e-03  -4.11910044e-02]\n",
      "[  8.57749339e-01   9.95904512e-01   5.57995090e-02  -2.08034357e-03\n",
      "   7.11075965e-02   5.41903630e-02   4.25264728e-01   1.86106430e-02\n",
      "  -3.89155178e-01  -1.50533045e-01  -5.01596398e-01   2.17885431e-01\n",
      "   4.23038743e-01   3.45445516e-01  -5.80803685e-01  -5.68856144e-02\n",
      "  -8.10786281e-01  -8.16545355e-02  -9.81474608e-01   4.17911167e+00\n",
      "   9.88872323e+00   1.01378745e+00  -5.25897247e+00  -6.18766096e+00\n",
      "  -1.18409149e+01   6.68067664e+00   7.00304946e+00]\n"
     ]
    }
   ],
   "source": [
    "o = env.reset()\n",
    "print(o)\n",
    "for _ in range(1):\n",
    "    no, _, r, d = env.step(env.action_space.sample())\n",
    "#     env.render()\n",
    "    print(no)\n",
    "env.close()"
   ]
  },
  {
   "cell_type": "code",
   "execution_count": 13,
   "id": "traditional-pioneer",
   "metadata": {},
   "outputs": [
    {
     "data": {
      "text/plain": [
       "{'coordinate': array([ 0.11201351, -0.02961854]),\n",
       " 'reward_ctrl': -1.7094845771789551,\n",
       " 'reward_forward': 0.24721719360095235,\n",
       " 'reward_sideward': -0.32033995359175937,\n",
       " 'reward_survive': 1.0}"
      ]
     },
     "execution_count": 13,
     "metadata": {},
     "output_type": "execute_result"
    }
   ],
   "source": [
    "d"
   ]
  }
 ],
 "metadata": {
  "kernelspec": {
   "display_name": "Python 3",
   "language": "python",
   "name": "python3"
  },
  "language_info": {
   "codemirror_mode": {
    "name": "ipython",
    "version": 3
   },
   "file_extension": ".py",
   "mimetype": "text/x-python",
   "name": "python",
   "nbconvert_exporter": "python",
   "pygments_lexer": "ipython3",
   "version": "3.5.2"
  }
 },
 "nbformat": 4,
 "nbformat_minor": 5
}
