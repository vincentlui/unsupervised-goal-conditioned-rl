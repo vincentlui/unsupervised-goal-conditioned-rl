{
 "cells": [
  {
   "cell_type": "code",
   "execution_count": 230,
   "id": "weighted-thriller",
   "metadata": {
    "collapsed": false,
    "deletable": true,
    "editable": true
   },
   "outputs": [
    {
     "name": "stdout",
     "output_type": "stream",
     "text": [
      "The autoreload extension is already loaded. To reload it, use:\n",
      "  %reload_ext autoreload\n"
     ]
    }
   ],
   "source": [
    "import torch\n",
    "import matplotlib.pyplot as plt\n",
    "import argparse\n",
    "from rlkit.envs.wrappers import NormalizedBoxEnv\n",
    "from envs.navigation2d.navigation2d import Navigation2d\n",
    "from rlkit.envs.mujoco.ant import AntEnv\n",
    "from rlkit.samplers.util import DIAYNRollout as rollout\n",
    "import numpy as np\n",
    "from rlkit.torch.sac.diayn.diayn_torch_online_rl_algorithm import DIAYNTorchOnlineRLAlgorithm\n",
    "from rlkit.torch.sac.gcs.skill_discriminator import SkillDiscriminator\n",
    "from rlkit.torch.sac.gcs.gcs_torch_online_rl_algorithm import GCSTorchOnlineRLAlgorithm\n",
    "from rlkit.torch.sac.gcs.gcs_path_collector import GCSMdpPathCollector\n",
    "from rlkit.torch.sac.gcs.policies import UniformSkillTanhGaussianPolicy\n",
    "from rlkit.torch.networks import FlattenMlp\n",
    "from rlkit.torch.sac.diayn.policies import SkillTanhGaussianPolicy, MakeDeterministic\n",
    "from rlkit.torch.sac.gcs.gcs_env_replay_buffer import GCSEnvReplayBuffer\n",
    "\n",
    "\n",
    "%load_ext autoreload\n",
    "%autoreload 2\n"
   ]
  },
  {
   "cell_type": "code",
   "execution_count": 153,
   "id": "complete-civilization",
   "metadata": {
    "collapsed": false,
    "deletable": true,
    "editable": true
   },
   "outputs": [
    {
     "name": "stdout",
     "output_type": "stream",
     "text": [
      "\u001b[33mWARN: gym.spaces.Box autodetected dtype as <class 'numpy.float32'>. Please provide explicit dtype.\u001b[0m\n",
      "\u001b[33mWARN: gym.spaces.Box autodetected dtype as <class 'numpy.float32'>. Please provide explicit dtype.\u001b[0m\n",
      "\u001b[33mWARN: gym.spaces.Box autodetected dtype as <class 'numpy.float32'>. Please provide explicit dtype.\u001b[0m\n"
     ]
    }
   ],
   "source": [
    "PATH='data/test/params.pkl'\n",
    "data = torch.load(PATH, map_location='cpu')\n",
    "policy = data['evaluation/policy']\n",
    "# env = NormalizedBoxEnv(Navigation2d())\n",
    "env = NormalizedBoxEnv(AntEnv(expose_all_qpos=False))\n",
    "# sd = data['trainer/skill_dynamics']"
   ]
  },
  {
   "cell_type": "code",
   "execution_count": 132,
   "id": "disturbed-attachment",
   "metadata": {
    "collapsed": false,
    "deletable": true,
    "editable": true
   },
   "outputs": [
    {
     "ename": "RuntimeError",
     "evalue": "size mismatch, m1: [1 x 4], m2: [29 x 128] at /opt/conda/conda-bld/pytorch-cpu_1532574353058/work/aten/src/TH/generic/THTensorMath.cpp:2070",
     "output_type": "error",
     "traceback": [
      "\u001b[0;31m---------------------------------------------------------------------------\u001b[0m",
      "\u001b[0;31mRuntimeError\u001b[0m                              Traceback (most recent call last)",
      "\u001b[0;32m<ipython-input-132-ab45f0a63436>\u001b[0m in \u001b[0;36m<module>\u001b[0;34m()\u001b[0m\n\u001b[1;32m      3\u001b[0m \u001b[0mskill\u001b[0m \u001b[0;34m=\u001b[0m \u001b[0mtorch\u001b[0m\u001b[0;34m.\u001b[0m\u001b[0mTensor\u001b[0m\u001b[0;34m(\u001b[0m\u001b[0;34m[\u001b[0m\u001b[0;36m0.5\u001b[0m\u001b[0;34m,\u001b[0m\u001b[0;36m0.5\u001b[0m\u001b[0;34m]\u001b[0m\u001b[0;34m)\u001b[0m\u001b[0;34m\u001b[0m\u001b[0m\n\u001b[1;32m      4\u001b[0m \u001b[0mstp\u001b[0m\u001b[0;34m.\u001b[0m\u001b[0mskill\u001b[0m \u001b[0;34m=\u001b[0m \u001b[0mskill\u001b[0m\u001b[0;34m\u001b[0m\u001b[0m\n\u001b[0;32m----> 5\u001b[0;31m \u001b[0mstp\u001b[0m\u001b[0;34m(\u001b[0m\u001b[0mobs\u001b[0m\u001b[0;34m)\u001b[0m\u001b[0;34m\u001b[0m\u001b[0m\n\u001b[0m",
      "\u001b[0;32m~/miniconda3/envs/rlkitjupyter/lib/python3.5/site-packages/torch/nn/modules/module.py\u001b[0m in \u001b[0;36m__call__\u001b[0;34m(self, *input, **kwargs)\u001b[0m\n\u001b[1;32m    475\u001b[0m             \u001b[0mresult\u001b[0m \u001b[0;34m=\u001b[0m \u001b[0mself\u001b[0m\u001b[0;34m.\u001b[0m\u001b[0m_slow_forward\u001b[0m\u001b[0;34m(\u001b[0m\u001b[0;34m*\u001b[0m\u001b[0minput\u001b[0m\u001b[0;34m,\u001b[0m \u001b[0;34m**\u001b[0m\u001b[0mkwargs\u001b[0m\u001b[0;34m)\u001b[0m\u001b[0;34m\u001b[0m\u001b[0m\n\u001b[1;32m    476\u001b[0m         \u001b[0;32melse\u001b[0m\u001b[0;34m:\u001b[0m\u001b[0;34m\u001b[0m\u001b[0m\n\u001b[0;32m--> 477\u001b[0;31m             \u001b[0mresult\u001b[0m \u001b[0;34m=\u001b[0m \u001b[0mself\u001b[0m\u001b[0;34m.\u001b[0m\u001b[0mforward\u001b[0m\u001b[0;34m(\u001b[0m\u001b[0;34m*\u001b[0m\u001b[0minput\u001b[0m\u001b[0;34m,\u001b[0m \u001b[0;34m**\u001b[0m\u001b[0mkwargs\u001b[0m\u001b[0;34m)\u001b[0m\u001b[0;34m\u001b[0m\u001b[0m\n\u001b[0m\u001b[1;32m    478\u001b[0m         \u001b[0;32mfor\u001b[0m \u001b[0mhook\u001b[0m \u001b[0;32min\u001b[0m \u001b[0mself\u001b[0m\u001b[0;34m.\u001b[0m\u001b[0m_forward_hooks\u001b[0m\u001b[0;34m.\u001b[0m\u001b[0mvalues\u001b[0m\u001b[0;34m(\u001b[0m\u001b[0;34m)\u001b[0m\u001b[0;34m:\u001b[0m\u001b[0;34m\u001b[0m\u001b[0m\n\u001b[1;32m    479\u001b[0m             \u001b[0mhook_result\u001b[0m \u001b[0;34m=\u001b[0m \u001b[0mhook\u001b[0m\u001b[0;34m(\u001b[0m\u001b[0mself\u001b[0m\u001b[0;34m,\u001b[0m \u001b[0minput\u001b[0m\u001b[0;34m,\u001b[0m \u001b[0mresult\u001b[0m\u001b[0;34m)\u001b[0m\u001b[0;34m\u001b[0m\u001b[0m\n",
      "\u001b[0;32m~/working/IDP/RlkitExtension/rlkit/torch/sac/gcs/policies.py\u001b[0m in \u001b[0;36mforward\u001b[0;34m(self, obs, skill_vec, reparameterize, deterministic, return_log_prob)\u001b[0m\n\u001b[1;32m     70\u001b[0m \u001b[0;34m\u001b[0m\u001b[0m\n\u001b[1;32m     71\u001b[0m         \u001b[0;32mfor\u001b[0m \u001b[0mi\u001b[0m\u001b[0;34m,\u001b[0m \u001b[0mfc\u001b[0m \u001b[0;32min\u001b[0m \u001b[0menumerate\u001b[0m\u001b[0;34m(\u001b[0m\u001b[0mself\u001b[0m\u001b[0;34m.\u001b[0m\u001b[0mfcs\u001b[0m\u001b[0;34m)\u001b[0m\u001b[0;34m:\u001b[0m\u001b[0;34m\u001b[0m\u001b[0m\n\u001b[0;32m---> 72\u001b[0;31m             \u001b[0mh\u001b[0m \u001b[0;34m=\u001b[0m \u001b[0mself\u001b[0m\u001b[0;34m.\u001b[0m\u001b[0mhidden_activation\u001b[0m\u001b[0;34m(\u001b[0m\u001b[0mfc\u001b[0m\u001b[0;34m(\u001b[0m\u001b[0mh\u001b[0m\u001b[0;34m)\u001b[0m\u001b[0;34m)\u001b[0m\u001b[0;34m\u001b[0m\u001b[0m\n\u001b[0m\u001b[1;32m     73\u001b[0m         \u001b[0mmean\u001b[0m \u001b[0;34m=\u001b[0m \u001b[0mself\u001b[0m\u001b[0;34m.\u001b[0m\u001b[0mlast_fc\u001b[0m\u001b[0;34m(\u001b[0m\u001b[0mh\u001b[0m\u001b[0;34m)\u001b[0m\u001b[0;34m\u001b[0m\u001b[0m\n\u001b[1;32m     74\u001b[0m         \u001b[0;32mif\u001b[0m \u001b[0mself\u001b[0m\u001b[0;34m.\u001b[0m\u001b[0mstd\u001b[0m \u001b[0;32mis\u001b[0m \u001b[0;32mNone\u001b[0m\u001b[0;34m:\u001b[0m\u001b[0;34m\u001b[0m\u001b[0m\n",
      "\u001b[0;32m~/miniconda3/envs/rlkitjupyter/lib/python3.5/site-packages/torch/nn/modules/module.py\u001b[0m in \u001b[0;36m__call__\u001b[0;34m(self, *input, **kwargs)\u001b[0m\n\u001b[1;32m    475\u001b[0m             \u001b[0mresult\u001b[0m \u001b[0;34m=\u001b[0m \u001b[0mself\u001b[0m\u001b[0;34m.\u001b[0m\u001b[0m_slow_forward\u001b[0m\u001b[0;34m(\u001b[0m\u001b[0;34m*\u001b[0m\u001b[0minput\u001b[0m\u001b[0;34m,\u001b[0m \u001b[0;34m**\u001b[0m\u001b[0mkwargs\u001b[0m\u001b[0;34m)\u001b[0m\u001b[0;34m\u001b[0m\u001b[0m\n\u001b[1;32m    476\u001b[0m         \u001b[0;32melse\u001b[0m\u001b[0;34m:\u001b[0m\u001b[0;34m\u001b[0m\u001b[0m\n\u001b[0;32m--> 477\u001b[0;31m             \u001b[0mresult\u001b[0m \u001b[0;34m=\u001b[0m \u001b[0mself\u001b[0m\u001b[0;34m.\u001b[0m\u001b[0mforward\u001b[0m\u001b[0;34m(\u001b[0m\u001b[0;34m*\u001b[0m\u001b[0minput\u001b[0m\u001b[0;34m,\u001b[0m \u001b[0;34m**\u001b[0m\u001b[0mkwargs\u001b[0m\u001b[0;34m)\u001b[0m\u001b[0;34m\u001b[0m\u001b[0m\n\u001b[0m\u001b[1;32m    478\u001b[0m         \u001b[0;32mfor\u001b[0m \u001b[0mhook\u001b[0m \u001b[0;32min\u001b[0m \u001b[0mself\u001b[0m\u001b[0;34m.\u001b[0m\u001b[0m_forward_hooks\u001b[0m\u001b[0;34m.\u001b[0m\u001b[0mvalues\u001b[0m\u001b[0;34m(\u001b[0m\u001b[0;34m)\u001b[0m\u001b[0;34m:\u001b[0m\u001b[0;34m\u001b[0m\u001b[0m\n\u001b[1;32m    479\u001b[0m             \u001b[0mhook_result\u001b[0m \u001b[0;34m=\u001b[0m \u001b[0mhook\u001b[0m\u001b[0;34m(\u001b[0m\u001b[0mself\u001b[0m\u001b[0;34m,\u001b[0m \u001b[0minput\u001b[0m\u001b[0;34m,\u001b[0m \u001b[0mresult\u001b[0m\u001b[0;34m)\u001b[0m\u001b[0;34m\u001b[0m\u001b[0m\n",
      "\u001b[0;32m~/miniconda3/envs/rlkitjupyter/lib/python3.5/site-packages/torch/nn/modules/linear.py\u001b[0m in \u001b[0;36mforward\u001b[0;34m(self, input)\u001b[0m\n\u001b[1;32m     53\u001b[0m \u001b[0;34m\u001b[0m\u001b[0m\n\u001b[1;32m     54\u001b[0m     \u001b[0;32mdef\u001b[0m \u001b[0mforward\u001b[0m\u001b[0;34m(\u001b[0m\u001b[0mself\u001b[0m\u001b[0;34m,\u001b[0m \u001b[0minput\u001b[0m\u001b[0;34m)\u001b[0m\u001b[0;34m:\u001b[0m\u001b[0;34m\u001b[0m\u001b[0m\n\u001b[0;32m---> 55\u001b[0;31m         \u001b[0;32mreturn\u001b[0m \u001b[0mF\u001b[0m\u001b[0;34m.\u001b[0m\u001b[0mlinear\u001b[0m\u001b[0;34m(\u001b[0m\u001b[0minput\u001b[0m\u001b[0;34m,\u001b[0m \u001b[0mself\u001b[0m\u001b[0;34m.\u001b[0m\u001b[0mweight\u001b[0m\u001b[0;34m,\u001b[0m \u001b[0mself\u001b[0m\u001b[0;34m.\u001b[0m\u001b[0mbias\u001b[0m\u001b[0;34m)\u001b[0m\u001b[0;34m\u001b[0m\u001b[0m\n\u001b[0m\u001b[1;32m     56\u001b[0m \u001b[0;34m\u001b[0m\u001b[0m\n\u001b[1;32m     57\u001b[0m     \u001b[0;32mdef\u001b[0m \u001b[0mextra_repr\u001b[0m\u001b[0;34m(\u001b[0m\u001b[0mself\u001b[0m\u001b[0;34m)\u001b[0m\u001b[0;34m:\u001b[0m\u001b[0;34m\u001b[0m\u001b[0m\n",
      "\u001b[0;32m~/miniconda3/envs/rlkitjupyter/lib/python3.5/site-packages/torch/nn/functional.py\u001b[0m in \u001b[0;36mlinear\u001b[0;34m(input, weight, bias)\u001b[0m\n\u001b[1;32m   1024\u001b[0m         \u001b[0;32mreturn\u001b[0m \u001b[0mtorch\u001b[0m\u001b[0;34m.\u001b[0m\u001b[0maddmm\u001b[0m\u001b[0;34m(\u001b[0m\u001b[0mbias\u001b[0m\u001b[0;34m,\u001b[0m \u001b[0minput\u001b[0m\u001b[0;34m,\u001b[0m \u001b[0mweight\u001b[0m\u001b[0;34m.\u001b[0m\u001b[0mt\u001b[0m\u001b[0;34m(\u001b[0m\u001b[0;34m)\u001b[0m\u001b[0;34m)\u001b[0m\u001b[0;34m\u001b[0m\u001b[0m\n\u001b[1;32m   1025\u001b[0m \u001b[0;34m\u001b[0m\u001b[0m\n\u001b[0;32m-> 1026\u001b[0;31m     \u001b[0moutput\u001b[0m \u001b[0;34m=\u001b[0m \u001b[0minput\u001b[0m\u001b[0;34m.\u001b[0m\u001b[0mmatmul\u001b[0m\u001b[0;34m(\u001b[0m\u001b[0mweight\u001b[0m\u001b[0;34m.\u001b[0m\u001b[0mt\u001b[0m\u001b[0;34m(\u001b[0m\u001b[0;34m)\u001b[0m\u001b[0;34m)\u001b[0m\u001b[0;34m\u001b[0m\u001b[0m\n\u001b[0m\u001b[1;32m   1027\u001b[0m     \u001b[0;32mif\u001b[0m \u001b[0mbias\u001b[0m \u001b[0;32mis\u001b[0m \u001b[0;32mnot\u001b[0m \u001b[0;32mNone\u001b[0m\u001b[0;34m:\u001b[0m\u001b[0;34m\u001b[0m\u001b[0m\n\u001b[1;32m   1028\u001b[0m         \u001b[0moutput\u001b[0m \u001b[0;34m+=\u001b[0m \u001b[0mbias\u001b[0m\u001b[0;34m\u001b[0m\u001b[0m\n",
      "\u001b[0;31mRuntimeError\u001b[0m: size mismatch, m1: [1 x 4], m2: [29 x 128] at /opt/conda/conda-bld/pytorch-cpu_1532574353058/work/aten/src/TH/generic/THTensorMath.cpp:2070"
     ]
    }
   ],
   "source": [
    "stp = policy.stochastic_policy\n",
    "obs = torch.Tensor([0.5,0.5,-0.5,0])\n",
    "skill = torch.Tensor([0.5,0.5])\n",
    "stp.skill = skill\n",
    "stp(obs)"
   ]
  },
  {
   "cell_type": "code",
   "execution_count": 105,
   "id": "annoying-paste",
   "metadata": {
    "collapsed": false,
    "deletable": true,
    "editable": true
   },
   "outputs": [
    {
     "data": {
      "text/plain": [
       "(tensor([[ 0.0233, -0.0035]], grad_fn=<ExpandBackward>),\n",
       " tensor([[0.0189, 0.0123]], grad_fn=<SqrtBackward>))"
      ]
     },
     "execution_count": 105,
     "metadata": {},
     "output_type": "execute_result"
    }
   ],
   "source": [
    "obs = torch.Tensor([[0.5,0.5,0.0,0.5]])\n",
    "skill = torch.Tensor([0.5,0.5])\n",
    "dist = sd(obs)\n",
    "dist.mean, dist.stddev"
   ]
  },
  {
   "cell_type": "code",
   "execution_count": 141,
   "id": "tight-granny",
   "metadata": {
    "collapsed": false,
    "deletable": true,
    "editable": true,
    "jupyter": {
     "outputs_hidden": true
    }
   },
   "outputs": [
    {
     "data": {
      "image/png": "[encoded data removed]",
      "text/plain": [
       "<matplotlib.figure.Figure at 0x7fcea839a470>"
      ]
     },
     "metadata": {
      "needs_background": "light"
     },
     "output_type": "display_data"
    }
   ],
   "source": [
    "figure = plt.figure()\n",
    "for _ in range(3):\n",
    "    skill = policy.stochastic_policy.skill_space.sample()\n",
    "    path = rollout(env, policy, skill, max_path_length=200)\n",
    "    obs = path['observations']\n",
    "    plt.plot(obs[:,0], obs[:,1], label=tuple(skill.numpy()))\n",
    "\n",
    "plt.xlim([-1,1])\n",
    "plt.ylim([-1,1])\n",
    "plt.legend()\n",
    "\n",
    "plt.show()"
   ]
  },
  {
   "cell_type": "code",
   "execution_count": 150,
   "id": "fixed-organization",
   "metadata": {
    "collapsed": false,
    "deletable": true,
    "editable": true,
    "jupyter": {
     "outputs_hidden": true
    }
   },
   "outputs": [
    {
     "data": {
      "text/plain": [
       "array([[  7.50000000e-01,   1.00000000e+00,   0.00000000e+00, ...,\n",
       "          0.00000000e+00,   0.00000000e+00,   0.00000000e+00],\n",
       "       [  7.72105579e-01,   9.99999999e-01,  -4.53603730e-05, ...,\n",
       "         -9.35265499e+00,   4.08337603e-02,   9.36877511e+00],\n",
       "       [  7.65302947e-01,   9.99999965e-01,  -2.59496227e-04, ...,\n",
       "         -8.87597962e+00,   8.01527247e-02,   8.91780421e+00],\n",
       "       ..., \n",
       "       [  3.77349953e-01,   9.99991034e-01,  -3.68214864e-03, ...,\n",
       "          3.87174127e-01,   1.02510461e-05,   4.48160592e-02],\n",
       "       [  3.73530499e-01,   9.99996024e-01,  -7.67840479e-04, ...,\n",
       "          4.02401349e-01,  -3.94497309e-04,   3.61471413e-02],\n",
       "       [  3.72632261e-01,   9.99994920e-01,   4.27322067e-04, ...,\n",
       "         -4.60095397e-02,   5.23240146e-04,  -2.19021143e-02]])"
      ]
     },
     "execution_count": 150,
     "metadata": {},
     "output_type": "execute_result"
    }
   ],
   "source": [
    "skill = [0.5,0.5]\n",
    "path = rollout(env, policy, skill, max_path_length=50, render=False)\n",
    "path['observations']"
   ]
  },
  {
   "cell_type": "code",
   "execution_count": 73,
   "id": "coordinate-engineering",
   "metadata": {
    "collapsed": false,
    "deletable": true,
    "editable": true
   },
   "outputs": [
    {
     "name": "stdout",
     "output_type": "stream",
     "text": [
      "[ 0.71405121  0.99574081  0.06732494  0.01937919  0.05993357 -0.04678509\n",
      "  0.0622754   0.01857511 -0.03205242  0.01100973  0.0122235   0.0686333\n",
      "  0.00500556 -0.01648753 -0.11196335 -0.14593653  0.01983485  0.05105849\n",
      "  0.09236208  0.08902942 -0.02913349  0.11500069  0.08600378 -0.05497157\n",
      "  0.09923356  0.06123207  0.21768817]\n"
     ]
    },
    {
     "data": {
      "text/plain": [
       "(tensor([ 0.0011, -0.9101, -0.9185, -0.5367, -0.9638, -0.8666,  0.1800,  0.3606],\n",
       "        grad_fn=<TanhBackward>),\n",
       " tensor([ 0.0938, -1.2792, -1.3551, -0.2932, -1.7531, -1.1087, -0.3416,  0.1431],\n",
       "        grad_fn=<ThAddBackward>),\n",
       " tensor([-1.4856, -1.1412, -0.7828, -1.2405, -0.9853, -1.0368, -1.1315, -1.5995],\n",
       "        grad_fn=<ClampBackward>),\n",
       " None,\n",
       " None,\n",
       " tensor([0.2264, 0.3194, 0.4571, 0.2892, 0.3733, 0.3546, 0.3225, 0.2020],\n",
       "        grad_fn=<ExpBackward>),\n",
       " None,\n",
       " None)"
      ]
     },
     "execution_count": 73,
     "metadata": {},
     "output_type": "execute_result"
    }
   ],
   "source": [
    "o = env.reset()\n",
    "print(o)\n",
    "input = torch.Tensor(np.concatenate([o, [0,0]]))\n",
    "input\n",
    "policy.stochastic_policy(input)\n",
    "# for _ in range(1):\n",
    "#     no, _, r, d = env.step(env.action_space.sample())\n",
    "# #     env.render()\n",
    "#     coor = d['coordinate']\n",
    "#     print(coor)\n",
    "# env.close()"
   ]
  },
  {
   "cell_type": "code",
   "execution_count": 238,
   "id": "constant-franklin",
   "metadata": {
    "collapsed": false,
    "deletable": true,
    "editable": true
   },
   "outputs": [],
   "source": [
    "import torch\n",
    "from torch.distributions.distribution import Distribution\n",
    "from torch.distributions import Categorical\n",
    "from torch.distributions import constraints\n",
    "\n",
    "\n",
    "class MixtureSameFamily(Distribution):\n",
    "    r\"\"\"\n",
    "    The `MixtureSameFamily` distribution implements a (batch of) mixture\n",
    "    distribution where all component are from different parameterizations of\n",
    "    the same distribution type. It is parameterized by a `Categorical`\n",
    "    \"selecting distribution\" (over `k` component) and a component\n",
    "    distribution, i.e., a `Distribution` with a rightmost batch shape\n",
    "    (equal to `[k]`) which indexes each (batch of) component.\n",
    "\n",
    "    Examples::\n",
    "\n",
    "        # Construct Gaussian Mixture Model in 1D consisting of 5 equally\n",
    "        # weighted normal distributions\n",
    "        >>> mix = D.Categorical(torch.ones(5,))\n",
    "        >>> comp = D.Normal(torch.randn(5,), torch.rand(5,))\n",
    "        >>> gmm = MixtureSameFamily(mix, comp)\n",
    "\n",
    "        # Construct Gaussian Mixture Modle in 2D consisting of 5 equally\n",
    "        # weighted bivariate normal distributions\n",
    "        >>> mix = D.Categorical(torch.ones(5,))\n",
    "        >>> comp = D.Independent(D.Normal(\n",
    "                     torch.randn(5,2), torch.rand(5,2)), 1)\n",
    "        >>> gmm = MixtureSameFamily(mix, comp)\n",
    "\n",
    "        # Construct a batch of 3 Gaussian Mixture Models in 2D each\n",
    "        # consisting of 5 random weighted bivariate normal distributions\n",
    "        >>> mix = D.Categorical(torch.rand(3,5))\n",
    "        >>> comp = D.Independent(D.Normal(\n",
    "                    torch.randn(3,5,2), torch.rand(3,5,2)), 1)\n",
    "        >>> gmm = MixtureSameFamily(mix, comp)\n",
    "\n",
    "    Args:\n",
    "        mixture_distribution: `torch.distributions.Categorical`-like\n",
    "            instance. Manages the probability of selecting component.\n",
    "            The number of categories must match the rightmost batch\n",
    "            dimension of the `component_distribution`. Must have either\n",
    "            scalar `batch_shape` or `batch_shape` matching\n",
    "            `component_distribution.batch_shape[:-1]`\n",
    "        component_distribution: `torch.distributions.Distribution`-like\n",
    "            instance. Right-most batch dimension indexes component.\n",
    "    \"\"\"\n",
    "    arg_constraints = {}\n",
    "    has_rsample = False\n",
    "\n",
    "    def __init__(self,\n",
    "                 mixture_distribution,\n",
    "                 component_distribution,\n",
    "                 validate_args=None):\n",
    "        self._mixture_distribution = mixture_distribution\n",
    "        self._component_distribution = component_distribution\n",
    "\n",
    "        if not isinstance(self._mixture_distribution, Categorical):\n",
    "            raise ValueError(\" The Mixture distribution needs to be an \"\n",
    "                             \" instance of torch.distribtutions.Categorical\")\n",
    "\n",
    "        if not isinstance(self._component_distribution, Distribution):\n",
    "            raise ValueError(\"The Component distribution need to be an \"\n",
    "                             \"instance of torch.distributions.Distribution\")\n",
    "\n",
    "        # Check that batch size matches\n",
    "        mdbs = self._mixture_distribution.batch_shape\n",
    "        cdbs = self._component_distribution.batch_shape[:-1]\n",
    "        for size1, size2 in zip(reversed(mdbs), reversed(cdbs)):\n",
    "            if size1 != 1 and size2 != 1 and size1 != size2:\n",
    "                raise ValueError(\"`mixture_distribution.batch_shape` ({0}) is not \"\n",
    "                                 \"compatible with `component_distribution.\"\n",
    "                                 \"batch_shape`({1})\".format(mdbs, cdbs))\n",
    "\n",
    "        # Check that the number of mixture component matches\n",
    "        km = self._mixture_distribution.logits.shape[-1]\n",
    "        kc = self._component_distribution.batch_shape[-1]\n",
    "        if km is not None and kc is not None and km != kc:\n",
    "            raise ValueError(\"`mixture_distribution component` ({0}) does not\"\n",
    "                             \" equal `component_distribution.batch_shape[-1]`\"\n",
    "                             \" ({1})\".format(km, kc))\n",
    "        self._num_component = km\n",
    "\n",
    "        event_shape = self._component_distribution.event_shape\n",
    "        self._event_ndims = len(event_shape)\n",
    "        super(MixtureSameFamily, self).__init__(batch_shape=cdbs,\n",
    "                                                event_shape=event_shape,\n",
    "                                                validate_args=validate_args)\n",
    "\n",
    "    def expand(self, batch_shape, _instance=None):\n",
    "        batch_shape = torch.Size(batch_shape)\n",
    "        batch_shape_comp = batch_shape + (self._num_component,)\n",
    "        new = self._get_checked_instance(MixtureSameFamily, _instance)\n",
    "        new._component_distribution = \\\n",
    "            self._component_distribution.expand(batch_shape_comp)\n",
    "        new._mixture_distribution = \\\n",
    "            self._mixture_distribution.expand(batch_shape)\n",
    "        new._num_component = self._num_component\n",
    "        new._event_ndims = self._event_ndims\n",
    "        event_shape = new._component_distribution.event_shape\n",
    "        super(MixtureSameFamily, new).__init__(batch_shape=batch_shape,\n",
    "                                               event_shape=event_shape,\n",
    "                                               validate_args=False)\n",
    "        new._validate_args = self._validate_args\n",
    "        return new\n",
    "\n",
    "\n",
    "    @constraints.dependent_property\n",
    "    def support(self):\n",
    "        # FIXME this may have the wrong shape when support contains batched \n",
    "        # parameters\n",
    "        return self._component_distribution.support\n",
    "\n",
    "    @property\n",
    "    def mixture_distribution(self):\n",
    "        return self._mixture_distribution\n",
    "\n",
    "    @property\n",
    "    def component_distribution(self):\n",
    "        return self._component_distribution\n",
    "\n",
    "    @property\n",
    "    def mean(self):\n",
    "        probs = self._pad_mixture_dimensions(self.mixture_distribution.probs)\n",
    "        return torch.sum(probs * self.component_distribution.mean,\n",
    "                         dim=-1 - self._event_ndims)  # [B, E]\n",
    "\n",
    "    @property\n",
    "    def variance(self):\n",
    "        # Law of total variance: Var(Y) = E[Var(Y|X)] + Var(E[Y|X])\n",
    "        probs = self._pad_mixture_dimensions(self.mixture_distribution.probs)\n",
    "        mean_cond_var = torch.sum(probs * self.component_distribution.variance,\n",
    "                                  dim=-1 - self._event_ndims)\n",
    "        var_cond_mean = torch.sum(probs * (self.component_distribution.mean -\n",
    "                                           self._pad(self.mean)).pow(2.0),\n",
    "                                  dim=-1 - self._event_ndims)\n",
    "        return mean_cond_var + var_cond_mean\n",
    "\n",
    "    def cdf(self, x):\n",
    "        x = self._pad(x)\n",
    "        cdf_x = self.component_distribution.cdf(x)\n",
    "        mix_prob = self.mixture_distribution.probs\n",
    "\n",
    "        return torch.sum(cdf_x * mix_prob, dim=-1)\n",
    "\n",
    "\n",
    "    def log_prob(self, x):\n",
    "        x = self._pad(x)\n",
    "        log_prob_x = self.component_distribution.log_prob(x)  # [S, B, k]\n",
    "        log_mix_prob = torch.log_softmax(self.mixture_distribution.logits,\n",
    "                                         dim=-1)  # [B, k]\n",
    "        return torch.logsumexp(log_prob_x + log_mix_prob, dim=-1)  # [S, B]\n",
    "\n",
    "\n",
    "    def sample(self, sample_shape=torch.Size()):\n",
    "        with torch.no_grad():\n",
    "            sample_len = len(sample_shape)\n",
    "            batch_len = len(self.batch_shape)\n",
    "            gather_dim = sample_len + batch_len\n",
    "            es = self.event_shape\n",
    "\n",
    "            # mixture samples [n, B]\n",
    "            mix_sample = self.mixture_distribution.sample(sample_shape)\n",
    "            mix_shape = mix_sample.shape\n",
    "\n",
    "            # component samples [n, B, k, E]\n",
    "            comp_samples = self.component_distribution.sample(sample_shape)\n",
    "\n",
    "            # Gather along the k dimension\n",
    "            mix_sample_r = mix_sample.reshape(\n",
    "                mix_shape + torch.Size([1] * (len(es) + 1)))\n",
    "            mix_sample_r = mix_sample_r.repeat(\n",
    "                torch.Size([1] * len(mix_shape)) + torch.Size([1]) + es)\n",
    "\n",
    "            samples = torch.gather(comp_samples, gather_dim, mix_sample_r)\n",
    "            return samples.squeeze(gather_dim)\n",
    "\n",
    "\n",
    "    def _pad(self, x):\n",
    "        return x.unsqueeze(-1 - self._event_ndims)\n",
    "\n",
    "    def _pad_mixture_dimensions(self, x):\n",
    "        dist_batch_ndims = self.batch_shape.numel()\n",
    "        cat_batch_ndims = self.mixture_distribution.batch_shape.numel()\n",
    "        pad_ndims = 0 if cat_batch_ndims == 1 else \\\n",
    "            dist_batch_ndims - cat_batch_ndims\n",
    "        xs = x.shape\n",
    "        x = x.reshape(xs[:-1] + torch.Size(pad_ndims * [1]) +\n",
    "                      xs[-1:] + torch.Size(self._event_ndims * [1]))\n",
    "        return x\n",
    "\n",
    "    def __repr__(self):\n",
    "        args_string = '\\n  {},\\n  {}'.format(self.mixture_distribution,\n",
    "                                             self.component_distribution)\n",
    "        return 'MixtureSameFamily' + '(' + args_string + ')'"
   ]
  },
  {
   "cell_type": "code",
   "execution_count": 239,
   "id": "german-programming",
   "metadata": {
    "collapsed": false,
    "deletable": true,
    "editable": true
   },
   "outputs": [],
   "source": [
    "from torch.distributions import Distribution, Normal, Independent, Uniform, Categorical"
   ]
  },
  {
   "cell_type": "code",
   "execution_count": 246,
   "id": "liable-earth",
   "metadata": {
    "collapsed": false,
    "deletable": true,
    "editable": true
   },
   "outputs": [
    {
     "data": {
      "text/plain": [
       "{'_batch_shape': torch.Size([]),\n",
       " '_event_shape': torch.Size([2]),\n",
       " 'base_dist': Normal(),\n",
       " 'reinterpreted_batch_ndims': 1}"
      ]
     },
     "execution_count": 246,
     "metadata": {},
     "output_type": "execute_result"
    }
   ],
   "source": [
    "x = Independent(Normal(torch.Tensor([0.0185,-0.0224]),torch.Tensor([0.6487,0.6527])), 1)\n",
    "# x.log_prob(torch.Tensor([-0.5971,-0.9609]))\n",
    "y = Normal(torch.Tensor([0.0185,-0.0224]),torch.Tensor([0.6487,0.6527]))\n",
    "x.__dict__"
   ]
  },
  {
   "cell_type": "code",
   "execution_count": 240,
   "id": "peripheral-scratch",
   "metadata": {
    "collapsed": false,
    "deletable": true,
    "editable": true
   },
   "outputs": [],
   "source": [
    "mix = Categorical(torch.ones(5,))\n",
    "comp = Normal(torch.randn(5,), torch.rand(5,))\n",
    "gmm = MixtureSameFamily(mix, comp)"
   ]
  },
  {
   "cell_type": "code",
   "execution_count": 241,
   "id": "peripheral-canon",
   "metadata": {
    "collapsed": false
   },
   "outputs": [
    {
     "data": {
      "text/plain": [
       "tensor(-2.6696)"
      ]
     },
     "execution_count": 241,
     "metadata": {},
     "output_type": "execute_result"
    }
   ],
   "source": [
    "gmm.sample()"
   ]
  },
  {
   "cell_type": "code",
   "execution_count": 232,
   "id": "proper-debut",
   "metadata": {
    "collapsed": false,
    "deletable": true,
    "editable": true
   },
   "outputs": [],
   "source": [
    "from rlkit.torch.sac.dads.policies import UniformSkillTanhGaussianPolicy"
   ]
  },
  {
   "cell_type": "code",
   "execution_count": 247,
   "id": "bottom-compromise",
   "metadata": {
    "collapsed": false,
    "deletable": true,
    "editable": true
   },
   "outputs": [],
   "source": [
    "from rlkit.envs.mujoco.half_cheetah import HalfCheetahEnv"
   ]
  },
  {
   "cell_type": "code",
   "execution_count": 259,
   "id": "floral-logging",
   "metadata": {
    "collapsed": false,
    "deletable": true,
    "editable": true
   },
   "outputs": [
    {
     "name": "stdout",
     "output_type": "stream",
     "text": [
      "\u001b[33mWARN: gym.spaces.Box autodetected dtype as <class 'numpy.float32'>. Please provide explicit dtype.\u001b[0m\n",
      "\u001b[33mWARN: gym.spaces.Box autodetected dtype as <class 'numpy.float32'>. Please provide explicit dtype.\u001b[0m\n"
     ]
    },
    {
     "data": {
      "text/plain": [
       "array([ -4.86543704e-02,   6.88680575e-05,   5.18675244e-02,\n",
       "         2.81905364e-02,  -4.48296332e-02,   4.78436399e-02,\n",
       "         8.06198521e-02,  -6.94511069e-04,   1.06213825e-02,\n",
       "        -5.75128570e-03,   1.69201282e-02,   1.21578363e-01,\n",
       "         1.13659702e-01,   3.62936866e-02,  -3.11132789e-02,\n",
       "        -2.12663749e-02,   4.16679427e-02,   6.34848551e-02])"
      ]
     },
     "execution_count": 259,
     "metadata": {},
     "output_type": "execute_result"
    }
   ],
   "source": [
    "env = HalfCheetahEnv(expose_all_qpos=True)\n",
    "o = env.reset()\n",
    "o"
   ]
  }
 ],
 "metadata": {
  "kernelspec": {
   "display_name": "Python 3",
   "language": "python",
   "name": "python3"
  },
  "language_info": {
   "codemirror_mode": {
    "name": "ipython",
    "version": 3
   },
   "file_extension": ".py",
   "mimetype": "text/x-python",
   "name": "python",
   "nbconvert_exporter": "python",
   "pygments_lexer": "ipython3",
   "version": "3.5.2"
  }
 },
 "nbformat": 4,
 "nbformat_minor": 5
}
