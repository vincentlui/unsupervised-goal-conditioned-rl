{
 "cells": [
  {
   "cell_type": "code",
   "execution_count": 1,
   "id": "honey-beginning",
   "metadata": {
    "collapsed": false,
    "deletable": true,
    "editable": true
   },
   "outputs": [],
   "source": [
    "import torch\n",
    "import matplotlib.pyplot as plt\n",
    "import argparse\n",
    "from rlkit.envs.wrappers import NormalizedBoxEnv\n",
    "from envs.navigation2d.navigation2d import Navigation2d\n",
    "from envs.mujoco.ant import AntEnv\n",
    "from rlkit.samplers.util import DIAYNRollout as rollout\n",
    "import numpy as np\n",
    "%load_ext autoreload\n",
    "%autoreload 2\n"
   ]
  },
  {
   "cell_type": "code",
   "execution_count": 2,
   "id": "cooperative-mailman",
   "metadata": {
    "collapsed": true,
    "deletable": true,
    "editable": true
   },
   "outputs": [],
   "source": [
    "PATH='data/test/params.pkl'"
   ]
  },
  {
   "cell_type": "code",
   "execution_count": 3,
   "id": "sorted-saskatchewan",
   "metadata": {
    "collapsed": false,
    "deletable": true,
    "editable": true
   },
   "outputs": [
    {
     "name": "stdout",
     "output_type": "stream",
     "text": [
      "\u001b[33mWARN: gym.spaces.Box autodetected dtype as <class 'numpy.float32'>. Please provide explicit dtype.\u001b[0m\n"
     ]
    }
   ],
   "source": [
    "data = torch.load(PATH, map_location='cpu')\n",
    "policy = data['evaluation/policy']\n",
    "env = NormalizedBoxEnv(Navigation2d())\n",
    "# env = NormalizedBoxEnv(AntEnv(expose_all_qpos=True))\n",
    "df = data['trainer/df']"
   ]
  },
  {
   "cell_type": "code",
   "execution_count": 654,
   "id": "vital-twelve",
   "metadata": {
    "collapsed": true,
    "deletable": true,
    "editable": true
   },
   "outputs": [],
   "source": [
    "def simulate_policy2():\n",
    "    data = torch.load(PATH, map_location='cpu')\n",
    "    policy = data['evaluation/policy']\n",
    "    # envs = NormalizedBoxEnv(Navigation2d())\n",
    "    figure = plt.figure()\n",
    "    for _ in range(3):\n",
    "        skill = policy.stochastic_policy.skill_space.sample()\n",
    "        path = rollout(env, policy, skill, max_path_length=50)\n",
    "        obs = np.array([p['coordinate'] for p in path['env_infos']])\n",
    "        plt.plot(obs[:,0], obs[:,1], label=tuple(skill.numpy()))\n",
    "#         print(obs)\n",
    "\n",
    "    plt.xlim([-2,2])\n",
    "    plt.ylim([-2,2])\n",
    "    plt.legend()\n"
   ]
  },
  {
   "cell_type": "code",
   "execution_count": 696,
   "id": "racial-summer",
   "metadata": {
    "collapsed": false,
    "deletable": true,
    "editable": true
   },
   "outputs": [
    {
     "ename": "ValueError",
     "evalue": "all the input arrays must have same number of dimensions",
     "output_type": "error",
     "traceback": [
      "\u001b[0;31m---------------------------------------------------------------------------\u001b[0m",
      "\u001b[0;31mValueError\u001b[0m                                Traceback (most recent call last)",
      "\u001b[0;32m<ipython-input-696-6040d4a33e2e>\u001b[0m in \u001b[0;36m<module>\u001b[0;34m()\u001b[0m\n\u001b[1;32m      2\u001b[0m \u001b[0;32mfor\u001b[0m \u001b[0mskill\u001b[0m \u001b[0;32min\u001b[0m \u001b[0mrange\u001b[0m\u001b[0;34m(\u001b[0m\u001b[0;36m10\u001b[0m\u001b[0;34m)\u001b[0m\u001b[0;34m:\u001b[0m\u001b[0;34m\u001b[0m\u001b[0m\n\u001b[1;32m      3\u001b[0m \u001b[0;31m#     policy.stochastic_policy.skill_reset()\u001b[0m\u001b[0;34m\u001b[0m\u001b[0;34m\u001b[0m\u001b[0m\n\u001b[0;32m----> 4\u001b[0;31m     \u001b[0mpath\u001b[0m \u001b[0;34m=\u001b[0m \u001b[0mrollout2\u001b[0m\u001b[0;34m(\u001b[0m\u001b[0menv\u001b[0m\u001b[0;34m,\u001b[0m \u001b[0mpolicy\u001b[0m\u001b[0;34m.\u001b[0m\u001b[0mstochastic_policy\u001b[0m\u001b[0;34m,\u001b[0m \u001b[0mskill\u001b[0m\u001b[0;34m,\u001b[0m \u001b[0mmax_path_length\u001b[0m\u001b[0;34m=\u001b[0m\u001b[0;36m20\u001b[0m\u001b[0;34m)\u001b[0m\u001b[0;34m\u001b[0m\u001b[0m\n\u001b[0m\u001b[1;32m      5\u001b[0m     \u001b[0mobs\u001b[0m \u001b[0;34m=\u001b[0m \u001b[0mpath\u001b[0m\u001b[0;34m[\u001b[0m\u001b[0;34m'observations'\u001b[0m\u001b[0;34m]\u001b[0m\u001b[0;34m\u001b[0m\u001b[0m\n\u001b[1;32m      6\u001b[0m     \u001b[0mplt\u001b[0m\u001b[0;34m.\u001b[0m\u001b[0mplot\u001b[0m\u001b[0;34m(\u001b[0m\u001b[0mobs\u001b[0m\u001b[0;34m[\u001b[0m\u001b[0;34m:\u001b[0m\u001b[0;34m,\u001b[0m\u001b[0;36m0\u001b[0m\u001b[0;34m]\u001b[0m\u001b[0;34m,\u001b[0m \u001b[0mobs\u001b[0m\u001b[0;34m[\u001b[0m\u001b[0;34m:\u001b[0m\u001b[0;34m,\u001b[0m\u001b[0;36m1\u001b[0m\u001b[0;34m]\u001b[0m\u001b[0;34m,\u001b[0m \u001b[0mlabel\u001b[0m\u001b[0;34m=\u001b[0m\u001b[0mstr\u001b[0m\u001b[0;34m(\u001b[0m\u001b[0mskill\u001b[0m\u001b[0;34m)\u001b[0m\u001b[0;34m)\u001b[0m\u001b[0;34m\u001b[0m\u001b[0m\n",
      "\u001b[0;32m<ipython-input-670-00e66c9b947e>\u001b[0m in \u001b[0;36mrollout2\u001b[0;34m(env, policy, skill, max_path_length, render, render_kwargs)\u001b[0m\n\u001b[1;32m     42\u001b[0m     \u001b[0mpolicy\u001b[0m\u001b[0;34m.\u001b[0m\u001b[0mskill_vec\u001b[0m\u001b[0;34m=\u001b[0m\u001b[0mtmp\u001b[0m\u001b[0;34m\u001b[0m\u001b[0m\n\u001b[1;32m     43\u001b[0m     \u001b[0;32mwhile\u001b[0m \u001b[0mpath_length\u001b[0m \u001b[0;34m<\u001b[0m \u001b[0mmax_path_length\u001b[0m\u001b[0;34m:\u001b[0m\u001b[0;34m\u001b[0m\u001b[0m\n\u001b[0;32m---> 44\u001b[0;31m         \u001b[0ma\u001b[0m\u001b[0;34m,\u001b[0m \u001b[0magent_info\u001b[0m \u001b[0;34m=\u001b[0m \u001b[0mpolicy\u001b[0m\u001b[0;34m.\u001b[0m\u001b[0mget_action\u001b[0m\u001b[0;34m(\u001b[0m\u001b[0mo\u001b[0m\u001b[0;34m)\u001b[0m\u001b[0;34m\u001b[0m\u001b[0m\n\u001b[0m\u001b[1;32m     45\u001b[0m         \u001b[0mnext_o\u001b[0m\u001b[0;34m,\u001b[0m \u001b[0mr\u001b[0m\u001b[0;34m,\u001b[0m \u001b[0md\u001b[0m\u001b[0;34m,\u001b[0m \u001b[0menv_info\u001b[0m \u001b[0;34m=\u001b[0m \u001b[0menv\u001b[0m\u001b[0;34m.\u001b[0m\u001b[0mstep\u001b[0m\u001b[0;34m(\u001b[0m\u001b[0ma\u001b[0m\u001b[0;34m)\u001b[0m\u001b[0;34m\u001b[0m\u001b[0m\n\u001b[1;32m     46\u001b[0m         \u001b[0mobservations\u001b[0m\u001b[0;34m.\u001b[0m\u001b[0mappend\u001b[0m\u001b[0;34m(\u001b[0m\u001b[0mo\u001b[0m\u001b[0;34m)\u001b[0m\u001b[0;34m\u001b[0m\u001b[0m\n",
      "\u001b[0;32m~/working/IDP/RlkitExtension/rlkit/torch/sac/gcs/policies.py\u001b[0m in \u001b[0;36mget_action\u001b[0;34m(self, obs_np, deterministic, return_log_prob)\u001b[0m\n\u001b[1;32m    159\u001b[0m         \u001b[0;31m# generate (skill_dim, ) matrix that stacks one-hot skill vectors\u001b[0m\u001b[0;34m\u001b[0m\u001b[0;34m\u001b[0m\u001b[0m\n\u001b[1;32m    160\u001b[0m         \u001b[0;31m# online reinforcement learning\u001b[0m\u001b[0;34m\u001b[0m\u001b[0;34m\u001b[0m\u001b[0m\n\u001b[0;32m--> 161\u001b[0;31m         \u001b[0mobs_np\u001b[0m \u001b[0;34m=\u001b[0m \u001b[0mnp\u001b[0m\u001b[0;34m.\u001b[0m\u001b[0mconcatenate\u001b[0m\u001b[0;34m(\u001b[0m\u001b[0;34m(\u001b[0m\u001b[0mobs_np\u001b[0m\u001b[0;34m,\u001b[0m \u001b[0mself\u001b[0m\u001b[0;34m.\u001b[0m\u001b[0mskill\u001b[0m\u001b[0;34m)\u001b[0m\u001b[0;34m,\u001b[0m \u001b[0maxis\u001b[0m\u001b[0;34m=\u001b[0m\u001b[0;36m0\u001b[0m\u001b[0;34m)\u001b[0m\u001b[0;34m\u001b[0m\u001b[0m\n\u001b[0m\u001b[1;32m    162\u001b[0m         \u001b[0maction\u001b[0m\u001b[0;34m,\u001b[0m \u001b[0m_\u001b[0m\u001b[0;34m,\u001b[0m \u001b[0m_\u001b[0m\u001b[0;34m,\u001b[0m \u001b[0mlog_prob\u001b[0m\u001b[0;34m,\u001b[0m \u001b[0;34m*\u001b[0m\u001b[0m_\u001b[0m \u001b[0;34m=\u001b[0m \u001b[0mself\u001b[0m\u001b[0;34m.\u001b[0m\u001b[0mget_actions\u001b[0m\u001b[0;34m(\u001b[0m\u001b[0mobs_np\u001b[0m\u001b[0;34m[\u001b[0m\u001b[0;32mNone\u001b[0m\u001b[0;34m]\u001b[0m\u001b[0;34m,\u001b[0m \u001b[0mdeterministic\u001b[0m\u001b[0;34m=\u001b[0m\u001b[0mdeterministic\u001b[0m\u001b[0;34m,\u001b[0m \u001b[0mreturn_log_prob\u001b[0m\u001b[0;34m=\u001b[0m\u001b[0mreturn_log_prob\u001b[0m\u001b[0;34m)\u001b[0m\u001b[0;34m\u001b[0m\u001b[0m\n\u001b[1;32m    163\u001b[0m         \u001b[0;32mif\u001b[0m \u001b[0mreturn_log_prob\u001b[0m\u001b[0;34m:\u001b[0m\u001b[0;34m\u001b[0m\u001b[0m\n",
      "\u001b[0;31mValueError\u001b[0m: all the input arrays must have same number of dimensions"
     ]
    },
    {
     "data": {
      "text/plain": [
       "<matplotlib.figure.Figure at 0x7f3c98c36048>"
      ]
     },
     "metadata": {},
     "output_type": "display_data"
    }
   ],
   "source": [
    "figure = plt.figure()\n",
    "for skill in range(10):\n",
    "#     policy.stochastic_policy.skill_reset()\n",
    "    path = rollout2(env, policy.stochastic_policy, skill, max_path_length=20)\n",
    "    obs = path['observations']\n",
    "    plt.plot(obs[:,0], obs[:,1], label=str(skill))\n",
    "\n",
    "plt.xlim([0,1])\n",
    "plt.ylim([0,1])\n",
    "plt.legend()\n",
    "\n",
    "plt.show()"
   ]
  },
  {
   "cell_type": "code",
   "execution_count": 667,
   "id": "mysterious-intention",
   "metadata": {
    "collapsed": false,
    "deletable": true,
    "editable": true
   },
   "outputs": [
    {
     "data": {
      "text/plain": [
       "tensor([[ -0.1177,  -0.1175,  -1.2024,  -3.2595, -20.0146,  -0.1548,  -0.0355,\n",
       "         -27.7156, -24.7956,  -0.0559]], grad_fn=<ThAddmmBackward>)"
      ]
     },
     "execution_count": 667,
     "metadata": {},
     "output_type": "execute_result"
    }
   ],
   "source": [
    "df(torch.Tensor([[0.5,0.5,0.05,0.95]]))"
   ]
  },
  {
   "cell_type": "code",
   "execution_count": 8,
   "id": "patient-swedish",
   "metadata": {
    "collapsed": false,
    "deletable": true,
    "editable": true
   },
   "outputs": [
    {
     "ename": "NameError",
     "evalue": "name 'rollout2' is not defined",
     "output_type": "error",
     "traceback": [
      "\u001b[0;31m---------------------------------------------------------------------------\u001b[0m",
      "\u001b[0;31mNameError\u001b[0m                                 Traceback (most recent call last)",
      "\u001b[0;32m<ipython-input-8-708ecb5c4c9e>\u001b[0m in \u001b[0;36m<module>\u001b[0;34m()\u001b[0m\n\u001b[1;32m      2\u001b[0m \u001b[0;32mfor\u001b[0m \u001b[0m_\u001b[0m \u001b[0;32min\u001b[0m \u001b[0mrange\u001b[0m\u001b[0;34m(\u001b[0m\u001b[0;36m3\u001b[0m\u001b[0;34m)\u001b[0m\u001b[0;34m:\u001b[0m\u001b[0;34m\u001b[0m\u001b[0m\n\u001b[1;32m      3\u001b[0m     \u001b[0mskill\u001b[0m \u001b[0;34m=\u001b[0m \u001b[0mpolicy\u001b[0m\u001b[0;34m.\u001b[0m\u001b[0mstochastic_policy\u001b[0m\u001b[0;34m.\u001b[0m\u001b[0mskill_space\u001b[0m\u001b[0;34m.\u001b[0m\u001b[0msample\u001b[0m\u001b[0;34m(\u001b[0m\u001b[0;34m)\u001b[0m\u001b[0;34m\u001b[0m\u001b[0m\n\u001b[0;32m----> 4\u001b[0;31m     \u001b[0mpath\u001b[0m \u001b[0;34m=\u001b[0m \u001b[0mrollout2\u001b[0m\u001b[0;34m(\u001b[0m\u001b[0menv\u001b[0m\u001b[0;34m,\u001b[0m \u001b[0mpolicy\u001b[0m\u001b[0;34m.\u001b[0m\u001b[0mstochastic_policy\u001b[0m\u001b[0;34m,\u001b[0m \u001b[0mskill\u001b[0m\u001b[0;34m,\u001b[0m \u001b[0mmax_path_length\u001b[0m\u001b[0;34m=\u001b[0m\u001b[0;36m20\u001b[0m\u001b[0;34m)\u001b[0m\u001b[0;34m\u001b[0m\u001b[0m\n\u001b[0m\u001b[1;32m      5\u001b[0m     \u001b[0mobs\u001b[0m \u001b[0;34m=\u001b[0m \u001b[0mpath\u001b[0m\u001b[0;34m[\u001b[0m\u001b[0;34m'observations'\u001b[0m\u001b[0;34m]\u001b[0m\u001b[0;34m\u001b[0m\u001b[0m\n\u001b[1;32m      6\u001b[0m     \u001b[0mplt\u001b[0m\u001b[0;34m.\u001b[0m\u001b[0mplot\u001b[0m\u001b[0;34m(\u001b[0m\u001b[0mobs\u001b[0m\u001b[0;34m[\u001b[0m\u001b[0;34m:\u001b[0m\u001b[0;34m,\u001b[0m\u001b[0;36m0\u001b[0m\u001b[0;34m]\u001b[0m\u001b[0;34m,\u001b[0m \u001b[0mobs\u001b[0m\u001b[0;34m[\u001b[0m\u001b[0;34m:\u001b[0m\u001b[0;34m,\u001b[0m\u001b[0;36m1\u001b[0m\u001b[0;34m]\u001b[0m\u001b[0;34m,\u001b[0m \u001b[0mlabel\u001b[0m\u001b[0;34m=\u001b[0m\u001b[0mtuple\u001b[0m\u001b[0;34m(\u001b[0m\u001b[0mskill\u001b[0m\u001b[0;34m.\u001b[0m\u001b[0mnumpy\u001b[0m\u001b[0;34m(\u001b[0m\u001b[0;34m)\u001b[0m\u001b[0;34m)\u001b[0m\u001b[0;34m)\u001b[0m\u001b[0;34m\u001b[0m\u001b[0m\n",
      "\u001b[0;31mNameError\u001b[0m: name 'rollout2' is not defined"
     ]
    },
    {
     "data": {
      "text/plain": [
       "<matplotlib.figure.Figure at 0x7fdd9e12e518>"
      ]
     },
     "metadata": {},
     "output_type": "display_data"
    }
   ],
   "source": [
    "figure = plt.figure()\n",
    "for _ in range(3):\n",
    "    skill = policy.stochastic_policy.skill_space.sample()\n",
    "    path = rollout2(env, policy.stochastic_policy, skill, max_path_length=20)\n",
    "    obs = path['observations']\n",
    "    plt.plot(obs[:,0], obs[:,1], label=tuple(skill.numpy()))\n",
    "\n",
    "plt.xlim([0,1])\n",
    "plt.ylim([0,1])\n",
    "plt.legend()\n",
    "\n",
    "plt.show()"
   ]
  },
  {
   "cell_type": "code",
   "execution_count": 352,
   "id": "functional-material",
   "metadata": {
    "collapsed": false,
    "deletable": true,
    "editable": true
   },
   "outputs": [
    {
     "ename": "KeyError",
     "evalue": "'trainer/df'",
     "output_type": "error",
     "traceback": [
      "\u001b[0;31m---------------------------------------------------------------------------\u001b[0m",
      "\u001b[0;31mKeyError\u001b[0m                                  Traceback (most recent call last)",
      "\u001b[0;32m<ipython-input-352-6843a28d259f>\u001b[0m in \u001b[0;36m<module>\u001b[0;34m()\u001b[0m\n\u001b[0;32m----> 1\u001b[0;31m \u001b[0mdf\u001b[0m \u001b[0;34m=\u001b[0m \u001b[0mdata\u001b[0m\u001b[0;34m[\u001b[0m\u001b[0;34m'trainer/df'\u001b[0m\u001b[0;34m]\u001b[0m\u001b[0;34m\u001b[0m\u001b[0m\n\u001b[0m\u001b[1;32m      2\u001b[0m \u001b[0mtorch\u001b[0m\u001b[0;34m.\u001b[0m\u001b[0midentity\u001b[0m\u001b[0;34m\u001b[0m\u001b[0m\n",
      "\u001b[0;31mKeyError\u001b[0m: 'trainer/df'"
     ]
    }
   ],
   "source": [
    "df = data['trainer/df']\n",
    "torch.identity\n"
   ]
  },
  {
   "cell_type": "code",
   "execution_count": 16,
   "id": "fleet-fabric",
   "metadata": {
    "collapsed": false,
    "deletable": true,
    "editable": true
   },
   "outputs": [
    {
     "data": {
      "text/plain": [
       "tensor([1., 1., 1., 1.])"
      ]
     },
     "execution_count": 16,
     "metadata": {},
     "output_type": "execute_result"
    }
   ],
   "source": [
    "policy.stochastic_policy.batch_norm = False\n",
    "(torch.Tensor([1,1,1,1]))"
   ]
  },
  {
   "cell_type": "code",
   "execution_count": 17,
   "id": "emerging-stand",
   "metadata": {
    "collapsed": false,
    "deletable": true,
    "editable": true
   },
   "outputs": [
    {
     "data": {
      "image/png": "[encoded data removed]",
      "text/plain": [
       "<matplotlib.figure.Figure at 0x7fdd958cac18>"
      ]
     },
     "metadata": {
      "needs_background": "light"
     },
     "output_type": "display_data"
    }
   ],
   "source": [
    "# skills = [\n",
    "#     torch.Tensor([0,-1.]),\n",
    "#     torch.Tensor([0,-0.8]),\n",
    "#     torch.Tensor([0,-0.6]),\n",
    "#     torch.Tensor([0,-0.4]),\n",
    "#     torch.Tensor([0,-0.2]),\n",
    "#     torch.Tensor([0, 0]),\n",
    "#     torch.Tensor([0,0.2]),\n",
    "#     torch.Tensor([0,0.4]),\n",
    "#     torch.Tensor([0,0.6]),\n",
    "#     torch.Tensor([0,0.8]),\n",
    "#     torch.Tensor([0,0.9]),\n",
    "#     torch.Tensor([0,1.])\n",
    "# ]\n",
    "# skills = torch.Tensor(np.vstack([np.arange(-0.9,1.1,0.4),-0.4*np.ones(5),-0.1*np.ones(5),0.1*np.ones(5)])).transpose(1,0)\n",
    "skills = torch.Tensor(np.vstack([0.3*np.ones(10),np.arange(-0.9,0.91,0.2)])).transpose(1,0)\n",
    "# skills = torch.Tensor(np.arange(-0.9, 1.1, 0.2)).view(-1,1)\n",
    "figure = plt.figure()\n",
    "for skill in skills:\n",
    "#     skill = policy.stochastic_policy.skill_space.sample()\n",
    "    path = rollout(env, policy, skill, max_path_length=40)\n",
    "    obs = path['observations']\n",
    "    plt.plot(obs[:,0], obs[:,1], label=tuple(skill.numpy()))\n",
    "\n",
    "plt.xlim([0,1])\n",
    "plt.ylim([0,1])\n",
    "plt.legend()\n",
    "\n",
    "plt.show()"
   ]
  },
  {
   "cell_type": "code",
   "execution_count": 18,
   "id": "southern-davis",
   "metadata": {
    "collapsed": false,
    "deletable": true,
    "editable": true
   },
   "outputs": [
    {
     "data": {
      "image/png": "[encoded data removed]",
      "text/plain": [
       "<matplotlib.figure.Figure at 0x7fdd9599edd8>"
      ]
     },
     "metadata": {
      "needs_background": "light"
     },
     "output_type": "display_data"
    }
   ],
   "source": [
    "skill_range = np.arange(-0.9, 0.91, 0.1)\n",
    "heatmap = np.empty([len(skill_range), len(skill_range)])\n",
    "vec_x = np.array([1,0])\n",
    "for i in range(len(skill_range)):\n",
    "    for j in range(len(skill_range)):\n",
    "        skill = np.array([skill_range[i],skill_range[j]])\n",
    "        path = rollout(env, policy, skill, max_path_length=20)\n",
    "        obs = path['observations']\n",
    "        direction = obs[-1] - obs[0]\n",
    "        angle = np.arccos(direction[0]/np.sqrt(np.sum(direction**2))) / np.pi * 180 * np.sign(direction[1])\n",
    "#         if direction[1] < 0:\n",
    "#             angle = 360 - np.arccos(direction[0]/np.sqrt(np.sum(direction**2))) / np.pi * 180\n",
    "#         else:\n",
    "#             angle = np.arccos(direction[0]/np.sqrt(np.sum(direction**2))) / np.pi * 180\n",
    "        heatmap[i,j] = angle\n",
    "        \n",
    "# print(heatmap)\n",
    "\n",
    "y, x = np.meshgrid(skill_range, skill_range)\n",
    "\n",
    "z = heatmap\n",
    "\n",
    "z_min, z_max = -np.abs(z).max(), np.abs(z).max()\n",
    "\n",
    "fig, ax = plt.subplots()\n",
    "\n",
    "c = ax.pcolormesh(x, y, z, cmap='RdBu', vmin=z_min, vmax=z_max)\n",
    "ax.set_title('pcolormesh')\n",
    "ax.axis([x.min(), x.max(), y.min(), y.max()])\n",
    "fig.colorbar(c, ax=ax)\n",
    "\n",
    "plt.show()"
   ]
  },
  {
   "cell_type": "code",
   "execution_count": 19,
   "id": "tender-percentage",
   "metadata": {
    "collapsed": false,
    "deletable": true,
    "editable": true
   },
   "outputs": [
    {
     "data": {
      "image/png": "[encoded data removed]",
      "text/plain": [
       "<matplotlib.figure.Figure at 0x7fdd95871748>"
      ]
     },
     "metadata": {
      "needs_background": "light"
     },
     "output_type": "display_data"
    }
   ],
   "source": [
    "skill_range = np.arange(-0.9, 0.91, 0.1)\n",
    "heatmap = np.empty([len(skill_range), len(skill_range)])\n",
    "vec_x = np.array([1,0])\n",
    "for i in range(len(skill_range)):\n",
    "    for j in range(len(skill_range)):\n",
    "        skill = np.array([skill_range[i],skill_range[j]])\n",
    "        path = rollout(env, policy, skill, max_path_length=20)\n",
    "        obs = path['observations']\n",
    "        direction = obs[-1] - obs[0]\n",
    "        distance = np.sqrt(np.sum(direction ** 2))\n",
    "        heatmap[i,j] = distance\n",
    "        \n",
    "# print(heatmap)\n",
    "\n",
    "y, x = np.meshgrid(skill_range, skill_range)\n",
    "\n",
    "z = heatmap\n",
    "\n",
    "z_min, z_max = -np.abs(z).max(), np.abs(z).max()\n",
    "\n",
    "fig, ax = plt.subplots()\n",
    "\n",
    "c = ax.pcolormesh(x, y, z, cmap='RdBu', vmin=z_min, vmax=z_max)\n",
    "ax.set_title('pcolormesh')\n",
    "ax.axis([x.min(), x.max(), y.min(), y.max()])\n",
    "fig.colorbar(c, ax=ax)\n",
    "\n",
    "plt.show()"
   ]
  },
  {
   "cell_type": "code",
   "execution_count": 363,
   "id": "continental-syria",
   "metadata": {
    "collapsed": false,
    "deletable": true,
    "editable": true
   },
   "outputs": [
    {
     "data": {
      "image/png": "[encoded data removed]",
      "text/plain": [
       "<matplotlib.figure.Figure at 0x7f3c991de828>"
      ]
     },
     "metadata": {
      "needs_background": "light"
     },
     "output_type": "display_data"
    }
   ],
   "source": [
    "policy.stochastic_policy.skill = torch.Tensor([0.,1.])\n",
    "start_loc = torch.Tensor([0.5,0.5])\n",
    "goal_loc = torch.Tensor([0.8,0.5])\n",
    "env.set_start_state(start_loc.numpy())\n",
    "df_input = torch.cat([start_loc, goal_loc])\n",
    "df_distribution = df(df_input).base_dist\n",
    "\n",
    "skill = df_distribution.loc.detach().numpy()\n",
    "path = rollout(env, policy, skill, max_path_length=20)\n",
    "obs = path['observations']\n",
    "plt.plot(obs[:,0], obs[:,1], label=skill)\n",
    "\n",
    "plt.xlim([0,1])\n",
    "plt.ylim([0,1])\n",
    "plt.legend()\n",
    "\n",
    "plt.show()"
   ]
  },
  {
   "cell_type": "code",
   "execution_count": 23,
   "id": "sapphire-peter",
   "metadata": {
    "collapsed": false,
    "deletable": true,
    "editable": true
   },
   "outputs": [
    {
     "name": "stderr",
     "output_type": "stream",
     "text": [
      "/home/vincent/miniconda3/envs/rlkit/lib/python3.5/site-packages/torch/nn/functional.py:995: UserWarning: nn.functional.tanh is deprecated. Use torch.tanh instead.\n",
      "  warnings.warn(\"nn.functional.tanh is deprecated. Use torch.tanh instead.\")\n"
     ]
    },
    {
     "data": {
      "text/plain": [
       "{'_batch_shape': torch.Size([]),\n",
       " '_event_shape': torch.Size([2]),\n",
       " 'base_dist': Normal(),\n",
       " 'reinterpreted_batch_ndims': 1}"
      ]
     },
     "execution_count": 23,
     "metadata": {},
     "output_type": "execute_result"
    }
   ],
   "source": [
    "df_distribution = df(df_input)\n",
    "df_distribution.__dict__"
   ]
  },
  {
   "cell_type": "code",
   "execution_count": 315,
   "id": "suspected-tower",
   "metadata": {
    "collapsed": false,
    "deletable": true,
    "editable": true
   },
   "outputs": [
    {
     "data": {
      "text/plain": [
       "(tensor([[-0.7357,  0.7937]], grad_fn=<TanhBackward>),\n",
       " tensor([[-0.9898,  1.4142]], grad_fn=<ThAddmmBackward>),\n",
       " tensor([[-0.3350, -0.5328]], grad_fn=<ClampBackward>),\n",
       " None,\n",
       " None,\n",
       " tensor([[0.7153, 0.5869]], grad_fn=<ExpBackward>),\n",
       " None,\n",
       " None)"
      ]
     },
     "execution_count": 315,
     "metadata": {},
     "output_type": "execute_result"
    }
   ],
   "source": [
    "policy.stochastic_policy(torch.Tensor([[0.5,0.5]]), skill_vec=torch.Tensor([[0.5,0.5]]))\n",
    "# policy.skill = []\n",
    "# policy.stochastic_policy.get_action([0.5,0.5])"
   ]
  },
  {
   "cell_type": "code",
   "execution_count": 330,
   "id": "described-shakespeare",
   "metadata": {
    "collapsed": false,
    "deletable": true,
    "editable": true
   },
   "outputs": [
    {
     "data": {
      "text/plain": [
       "array([[ 0.5       ,  0.5       ],\n",
       "       [ 0.4889787 ,  0.54773617],\n",
       "       [ 0.44251695,  0.59346853],\n",
       "       [ 0.41564482,  0.63455578],\n",
       "       [ 0.39249668,  0.66061372],\n",
       "       [ 0.34646426,  0.70923618],\n",
       "       [ 0.29729428,  0.74586132],\n",
       "       [ 0.26523323,  0.79424524],\n",
       "       [ 0.21915893,  0.80181268],\n",
       "       [ 0.17068567,  0.83156598],\n",
       "       [ 0.12122098,  0.86965371],\n",
       "       [ 0.10508945,  0.91788789],\n",
       "       [ 0.07349703,  0.95520763],\n",
       "       [ 0.07349703,  0.95520763],\n",
       "       [ 0.07349703,  0.95520763],\n",
       "       [ 0.07349703,  0.95520763],\n",
       "       [ 0.02609153,  0.98254992],\n",
       "       [ 0.02609153,  0.98254992],\n",
       "       [ 0.02609153,  0.98254992],\n",
       "       [ 0.02609153,  0.98254992],\n",
       "       [ 0.02609153,  0.98254992],\n",
       "       [ 0.02609153,  0.98254992],\n",
       "       [ 0.02609153,  0.98254992],\n",
       "       [ 0.02609153,  0.98254992],\n",
       "       [ 0.02609153,  0.98254992],\n",
       "       [ 0.02609153,  0.98254992],\n",
       "       [ 0.02609153,  0.98254992],\n",
       "       [ 0.02609153,  0.98254992],\n",
       "       [ 0.02609153,  0.98254992],\n",
       "       [ 0.02609153,  0.98254992],\n",
       "       [ 0.02609153,  0.98254992],\n",
       "       [ 0.02609153,  0.98254992],\n",
       "       [ 0.02609153,  0.98254992],\n",
       "       [ 0.02609153,  0.98254992],\n",
       "       [ 0.02609153,  0.98254992],\n",
       "       [ 0.02609153,  0.98254992],\n",
       "       [ 0.02609153,  0.98254992],\n",
       "       [ 0.02609153,  0.98254992],\n",
       "       [ 0.02609153,  0.98254992],\n",
       "       [ 0.02609153,  0.98254992]])"
      ]
     },
     "execution_count": 330,
     "metadata": {},
     "output_type": "execute_result"
    }
   ],
   "source": [
    "path = rollout2(env, policy.stochastic_policy, [0,0], 40)\n",
    "path['observations']"
   ]
  },
  {
   "cell_type": "code",
   "execution_count": 670,
   "id": "active-suite",
   "metadata": {
    "collapsed": false,
    "deletable": true,
    "editable": true
   },
   "outputs": [],
   "source": [
    "def rollout2(\n",
    "        env,\n",
    "        policy,\n",
    "        skill,\n",
    "        max_path_length=np.inf,\n",
    "        render=False,\n",
    "        render_kwargs=None,\n",
    "):\n",
    "    \"\"\"\n",
    "    The following value for the following keys will be a 2D array, with the\n",
    "    first dimension corresponding to the time dimension.\n",
    "     - observations\n",
    "     - actions\n",
    "     - rewards\n",
    "     - next_observations\n",
    "     - terminals\n",
    "\n",
    "    The next two elements will be lists of dictionaries, with the index into\n",
    "    the list being the index into the time\n",
    "     - agent_infos\n",
    "     - env_infos\n",
    "    \"\"\"\n",
    "    if render_kwargs is None:\n",
    "        render_kwargs = {}\n",
    "    observations = []\n",
    "    actions = []\n",
    "    rewards = []\n",
    "    terminals = []\n",
    "    agent_infos = []\n",
    "    env_infos = []\n",
    "    skill_goals = []\n",
    "    current_states = []\n",
    "    o = env.reset()\n",
    "    next_o = None\n",
    "    path_length = 0\n",
    "    skill_step = 0\n",
    "    if render:\n",
    "        env.render(**render_kwargs)\n",
    "    policy.skill = skill\n",
    "    tmp = np.zeros(policy.skill_dim)\n",
    "    tmp[skill] += 1\n",
    "    policy.skill_vec=tmp\n",
    "    while path_length < max_path_length:\n",
    "        a, agent_info = policy.get_action(o)\n",
    "        next_o, r, d, env_info = env.step(a)\n",
    "        observations.append(o)\n",
    "        rewards.append(r)\n",
    "        terminals.append(d)\n",
    "        actions.append(a)\n",
    "        agent_infos.append(agent_info)\n",
    "        env_infos.append(env_info)\n",
    "\n",
    "        path_length += 1\n",
    "\n",
    "        if max_path_length == np.inf and d:\n",
    "            break\n",
    "        o = next_o\n",
    "\n",
    "        if render:\n",
    "            env.render(**render_kwargs)\n",
    "\n",
    "    actions = np.array(actions)\n",
    "    if len(actions.shape) == 1:\n",
    "        actions = np.expand_dims(actions, 1)\n",
    "    observations = np.array(observations)\n",
    "    if len(observations.shape) == 1:\n",
    "        observations = np.expand_dims(observations, 1)\n",
    "        next_o = np.array([next_o])\n",
    "    next_observations = np.vstack(\n",
    "        (\n",
    "            observations[1:, :],\n",
    "            np.expand_dims(next_o, 0)\n",
    "        )\n",
    "    )\n",
    "    return dict(\n",
    "        observations=observations,\n",
    "        actions=actions,\n",
    "        rewards=np.array(rewards).reshape(-1, 1),\n",
    "        next_observations=next_observations,\n",
    "        terminals=np.array(terminals).reshape(-1, 1),\n",
    "        agent_infos=agent_infos,\n",
    "        env_infos=env_infos,\n",
    "    )"
   ]
  }
 ],
 "metadata": {
  "kernelspec": {
   "display_name": "Python 3",
   "language": "python",
   "name": "python3"
  },
  "language_info": {
   "codemirror_mode": {
    "name": "ipython",
    "version": 3
   },
   "file_extension": ".py",
   "mimetype": "text/x-python",
   "name": "python",
   "nbconvert_exporter": "python",
   "pygments_lexer": "ipython3",
   "version": "3.5.2"
  }
 },
 "nbformat": 4,
 "nbformat_minor": 5
}
