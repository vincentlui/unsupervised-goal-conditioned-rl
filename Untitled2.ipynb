{
 "cells": [
  {
   "cell_type": "code",
   "execution_count": 4,
   "id": "direct-religious",
   "metadata": {
    "collapsed": false
   },
   "outputs": [
    {
     "name": "stdout",
     "output_type": "stream",
     "text": [
      "The autoreload extension is already loaded. To reload it, use:\n",
      "  %reload_ext autoreload\n"
     ]
    }
   ],
   "source": [
    "import torch\n",
    "import matplotlib.pyplot as plt\n",
    "import argparse\n",
    "import gym\n",
    "from rlkit.envs.wrappers import NormalizedBoxEnv, GoalToNormalEnv\n",
    "from envs.navigation2d.navigation2d import Navigation2d\n",
    "from rlkit.envs.mujoco.ant import AntEnv\n",
    "from rlkit.envs.mujoco.half_cheetah import HalfCheetahEnv \n",
    "from rlkit.envs.fetch.reach import FetchReachEnv\n",
    "from rlkit.envs.fetch.push import FetchPushEnv\n",
    "from rlkit.samplers.util import DIAYNRollout as rollout\n",
    "import numpy as np\n",
    "from rlkit.torch.sac.diayn.diayn_torch_online_rl_algorithm import DIAYNTorchOnlineRLAlgorithm\n",
    "from rlkit.torch.sac.gcs.skill_discriminator import SkillDiscriminator\n",
    "from rlkit.torch.sac.gcs.gcs_torch_online_rl_algorithm import GCSTorchOnlineRLAlgorithm\n",
    "from rlkit.torch.sac.gcs.gcs_path_collector import GCSMdpPathCollector\n",
    "from rlkit.torch.sac.gcs.policies import UniformSkillTanhGaussianPolicy\n",
    "from rlkit.torch.networks import FlattenMlp\n",
    "from rlkit.torch.sac.diayn.policies import SkillTanhGaussianPolicy, MakeDeterministic\n",
    "from rlkit.torch.sac.gcs.gcs_env_replay_buffer import GCSEnvReplayBuffer\n",
    "from rlkit.torch.core import eval_np\n",
    "from rlkit.torch import pytorch_util as ptu\n",
    "import pandas as pd\n",
    "\n",
    "%load_ext autoreload\n",
    "%autoreload 2\n"
   ]
  },
  {
   "cell_type": "code",
   "execution_count": 5,
   "id": "floral-disaster",
   "metadata": {
    "collapsed": true
   },
   "outputs": [],
   "source": [
    "# PATH='data/test/params.pkl'\n",
    "# data = torch.load(PATH, map_location='cpu')\n",
    "# policy = data['evaluation/policy']\n",
    "# # env = NormalizedBoxEnv(Navigation2d())\n",
    "# # env = NormalizedBoxEnv(AntEnv(expose_all_qpos=False))\n",
    "# # env = NormalizedBoxEnv(HalfCheetahEnv(expose_all_qpos=False))\n",
    "# # env = NormalizedBoxEnv(gym.make('Swimmer-v2'))\n",
    "# # env = NormalizedBoxEnv(gym.make('MountainCarContinuous-v0'))\n",
    "# # env = GoalToNormalEnv(gym.make('FetchReach-v1'))\n",
    "# env = GoalToNormalEnv(FetchReachEnv())\n",
    "# # env = GoalToNormalEnv(FetchPushEnv())\n",
    "# df = data['trainer/df']"
   ]
  },
  {
   "cell_type": "code",
   "execution_count": 16,
   "id": "attractive-montreal",
   "metadata": {
    "collapsed": false
   },
   "outputs": [],
   "source": [
    "path = 'data/test/progress.csv'\n",
    "df_gcs = pd.read_csv(path)\n",
    "\n",
    "path = 'data/test/diayn/progress.csv'\n",
    "df_diayn = pd.read_csv(path)"
   ]
  },
  {
   "cell_type": "code",
   "execution_count": 18,
   "id": "electric-tragedy",
   "metadata": {
    "collapsed": false
   },
   "outputs": [
    {
     "data": {
      "text/plain": [
       "array([ 0.01,  0.  ,  0.  ,  0.  ,  0.  ,  0.  ,  0.  ,  0.  ,  0.  ,\n",
       "        0.  ,  0.  ,  0.  ,  0.  ,  0.  ,  0.  ,  0.  ,  0.  ,  0.  ,\n",
       "        0.  ,  0.  ,  0.  ,  0.  ,  0.  ,  0.  ,  0.  ,  0.  ,  0.  ,\n",
       "        0.  ,  0.  ,  0.  ,  0.  ,  0.  ,  0.  ,  0.  ,  0.  ,  0.  ,\n",
       "        0.  ,  0.  ,  0.  ,  0.  ,  0.  ,  0.  ,  0.  ,  0.  ,  0.  ,\n",
       "        0.  ,  0.  ,  0.  ,  0.  ,  0.  ,  0.  ,  0.  ,  0.  ,  0.  ,\n",
       "        0.  ,  0.  ,  0.  ,  0.  ,  0.  ,  0.  ,  0.  ,  0.  ,  0.  ,\n",
       "        0.  ,  0.  ,  0.  ,  0.  ,  0.  ,  0.  ,  0.  ,  0.  ,  0.  ,\n",
       "        0.  ,  0.  ,  0.  ,  0.  ,  0.  ,  0.  ,  0.  ,  0.  ,  0.  ,\n",
       "        0.  ,  0.  ,  0.  ,  0.  ,  0.  ,  0.  ,  0.  ,  0.  ,  0.  ,\n",
       "        0.  ,  0.  ,  0.  ,  0.  ,  0.  ,  0.  ,  0.  ,  0.  ,  0.  ,\n",
       "        0.  ,  0.  ,  0.  ,  0.  ,  0.  ,  0.  ,  0.  ,  0.  ,  0.  ,\n",
       "        0.  ,  0.  ,  0.  ,  0.  ,  0.  ,  0.  ,  0.  ,  0.  ,  0.  ,\n",
       "        0.  ,  0.  ,  0.  ,  0.  ,  0.  ,  0.  ,  0.  ,  0.  ,  0.  ,\n",
       "        0.  ,  0.  ,  0.  ,  0.  ,  0.  ,  0.  ,  0.  ,  0.  ,  0.  ,\n",
       "        0.  ,  0.  ,  0.  ,  0.  ,  0.  ,  0.  ,  0.  ,  0.  ,  0.  ,\n",
       "        0.  ,  0.  ,  0.  ,  0.  ,  0.  ,  0.  ,  0.  ,  0.  ,  0.  ,\n",
       "        0.  ,  0.  ,  0.  ,  0.  ,  0.  ,  0.  ,  0.  ,  0.  ,  0.  ,\n",
       "        0.  ,  0.  ,  0.  ,  0.  ,  0.  ,  0.  ,  0.  ,  0.  ,  0.  ,\n",
       "        0.  ,  0.  ,  0.  ,  0.  ,  0.  ,  0.  ,  0.  ,  0.  ,  0.  ,\n",
       "        0.  ,  0.  ,  0.  ,  0.  ,  0.  ,  0.  ,  0.  ,  0.  ,  0.  ,\n",
       "        0.  ,  0.  ,  0.  ,  0.  ,  0.  ,  0.  ,  0.  ,  0.  ,  0.  ,\n",
       "        0.  ,  0.  ,  0.  ,  0.  ,  0.  ,  0.  ,  0.  ,  0.  ,  0.  ,\n",
       "        0.  ,  0.  ,  0.  ,  0.  ,  0.  ,  0.  ,  0.  ,  0.  ,  0.  ,\n",
       "        0.  ,  0.  ,  0.  ,  0.  ,  0.01,  0.  ,  0.  ,  0.  ,  0.  ,\n",
       "        0.  ,  0.  ,  0.  ,  0.  ,  0.  ,  0.  ,  0.  ,  0.  ,  0.  ,\n",
       "        0.  ,  0.  ,  0.  ,  0.  ,  0.  ,  0.  ,  0.  ,  0.  ,  0.  ,\n",
       "        0.  ,  0.  ,  0.  ,  0.  ,  0.  ,  0.  ,  0.  ,  0.  ,  0.  ,\n",
       "        0.  ,  0.  ,  0.  ,  0.  ,  0.  ,  0.  ,  0.  ,  0.  ,  0.  ,\n",
       "        0.  ,  0.  ,  0.  ,  0.  ,  0.  ,  0.  ,  0.  ,  0.  ,  0.  ,\n",
       "        0.01,  0.  ,  0.  ,  0.  ,  0.  ,  0.  ,  0.  ,  0.  ,  0.  ,\n",
       "        0.  ,  0.  ,  0.  ,  0.  ,  0.  ,  0.  ,  0.  ,  0.  ,  0.  ,\n",
       "        0.  ,  0.  ,  0.  ,  0.  ,  0.  ,  0.  ,  0.  ,  0.  ,  0.  ,\n",
       "        0.  ,  0.  ,  0.  ])"
      ]
     },
     "execution_count": 18,
     "metadata": {},
     "output_type": "execute_result"
    }
   ],
   "source": [
    "success_rates = np.array(df_gcs['evaluation/success rate'])\n",
    "success_rates_group = success_rates.reshape(-1, 10)\n",
    "sr_avg = success_rates_group.sum(axis=1)/10\n",
    "sr_avg\n",
    "\n",
    "success_rates = np.array(df_diayn['evaluation/success rate'])\n",
    "success_rates_group = success_rates.reshape(-1, 10)\n",
    "sr_avg2 = success_rates_group.sum(axis=1)/10\n",
    "sr_avg2"
   ]
  },
  {
   "cell_type": "code",
   "execution_count": 15,
   "id": "legendary-attendance",
   "metadata": {
    "collapsed": false
   },
   "outputs": [
    {
     "data": {
      "image/png": "[encoded data removed]",
      "text/plain": [
       "<matplotlib.figure.Figure at 0x7fef37fe3400>"
      ]
     },
     "metadata": {
      "needs_background": "light"
     },
     "output_type": "display_data"
    }
   ],
   "source": [
    "fig = plt.figure()\n",
    "x = range(1000)\n",
    "plt.plot(x, sr_avg)\n",
    "plt.show()"
   ]
  },
  {
   "cell_type": "code",
   "execution_count": 20,
   "id": "offensive-column",
   "metadata": {
    "collapsed": false
   },
   "outputs": [
    {
     "data": {
      "image/png": "[encoded data removed]",
      "text/plain": [
       "<matplotlib.figure.Figure at 0x7fef38c60588>"
      ]
     },
     "metadata": {
      "needs_background": "light"
     },
     "output_type": "display_data"
    }
   ],
   "source": [
    "fig = plt.figure()\n",
    "x = range(300)\n",
    "plt.plot(x, sr_avg2)\n",
    "plt.ylim([0,1])\n",
    "plt.show()"
   ]
  }
 ],
 "metadata": {
  "kernelspec": {
   "display_name": "Python 3",
   "language": "python",
   "name": "python3"
  },
  "language_info": {
   "codemirror_mode": {
    "name": "ipython",
    "version": 3
   },
   "file_extension": ".py",
   "mimetype": "text/x-python",
   "name": "python",
   "nbconvert_exporter": "python",
   "pygments_lexer": "ipython3",
   "version": "3.5.2"
  }
 },
 "nbformat": 4,
 "nbformat_minor": 5
}
